{
 "cells": [
  {
   "cell_type": "code",
   "execution_count": null,
   "metadata": {},
   "outputs": [
    {
     "name": "stdin",
     "output_type": "stream",
     "text": [
      "Enter a number here:  5\n",
      "Enter an operator: *\n",
      "Enter another number:  5\n"
     ]
    },
    {
     "name": "stdout",
     "output_type": "stream",
     "text": [
      "25.0\n"
     ]
    }
   ],
   "source": [
    "r=0\n",
    "y=\"\"\n",
    "x1=input(\"Enter a number here: \")\n",
    "x_1=False\n",
    "while x_1==False:\n",
    "    if x1.isnumeric()!=True:\n",
    "        x1=input(\"Wrong entry, please enter a number: \")\n",
    "    else:\n",
    "        x_1=True\n",
    "x1=float(x1)\n",
    "while y!=\"done\":\n",
    "    b=False\n",
    "    op=input(\"Enter an operator:\")\n",
    "    while b==False:\n",
    "        if op!=\"+\" and op!=\"-\" and op!=\"/\" and op!=\"*\" and op!=\"**\":\n",
    "            op=input(\"Wrong entry, please enter an operator: \")\n",
    "        else:\n",
    "            b=True\n",
    "    x_2=False\n",
    "    x2=input(\"Enter another number: \")\n",
    "    while x_2==False:\n",
    "        if x2.isnumeric()!=True:\n",
    "            x2=input(\"Wrong entry, please enter a number: \")\n",
    "        else:\n",
    "            x_2=True\n",
    "    x2=float(x2)\n",
    "    if op==\"+\":\n",
    "        r=x1+x2\n",
    "        print(r)\n",
    "    elif op==\"-\":\n",
    "        r=x1-x2\n",
    "        print(r)\n",
    "    elif op==\"*\":\n",
    "        r=x1*x2\n",
    "        print(r)\n",
    "    elif op==\"**\":\n",
    "        r=x1**x2\n",
    "        print(r)\n",
    "    elif op==\"/\":\n",
    "        r=x1/x2\n",
    "        print(r)\n",
    "    y=input(\"Press \\\"done\\\" if you are finished :\")\n",
    "    if y!=\"done\":\n",
    "        x1=r\n",
    "print(\"This is your final result:\",r)"
   ]
  },
  {
   "cell_type": "code",
   "execution_count": null,
   "metadata": {},
   "outputs": [],
   "source": []
  }
 ],
 "metadata": {
  "kernelspec": {
   "display_name": "Python 3",
   "language": "python",
   "name": "python3"
  },
  "language_info": {
   "codemirror_mode": {
    "name": "ipython",
    "version": 3
   },
   "file_extension": ".py",
   "mimetype": "text/x-python",
   "name": "python",
   "nbconvert_exporter": "python",
   "pygments_lexer": "ipython3",
   "version": "3.7.6"
  }
 },
 "nbformat": 4,
 "nbformat_minor": 4
}
