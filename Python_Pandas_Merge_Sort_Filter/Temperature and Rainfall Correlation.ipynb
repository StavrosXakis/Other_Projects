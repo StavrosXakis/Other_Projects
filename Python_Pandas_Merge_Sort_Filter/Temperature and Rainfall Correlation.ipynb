{
 "cells": [
  {
   "cell_type": "markdown",
   "metadata": {},
   "source": [
    "#### First, we import the packages that we'll need.\n",
    ">We will use the pandas package for data manipulation and the seaborn & matplotlib for data visualizations."
   ]
  },
  {
   "cell_type": "code",
   "execution_count": 1,
   "metadata": {},
   "outputs": [],
   "source": [
    "import pandas as pd\n",
    "import matplotlib\n",
    "import seaborn as sns\n",
    "from matplotlib import pyplot as plt"
   ]
  },
  {
   "cell_type": "markdown",
   "metadata": {},
   "source": [
    "#### We read the data into a Pandas Data Frame."
   ]
  },
  {
   "cell_type": "markdown",
   "metadata": {},
   "source": [
    ">We use two different datasets, with the first containing data for the temperature levels per year,\n",
    "and the second one contains data for the rainfall levels per year."
   ]
  },
  {
   "cell_type": "code",
   "execution_count": 2,
   "metadata": {},
   "outputs": [],
   "source": [
    "df_temp = pd.read_csv('tempYearly.csv')\n",
    "df_rain = pd.read_csv('rainYearly.csv')"
   ]
  },
  {
   "cell_type": "markdown",
   "metadata": {},
   "source": [
    "#### Then, we review our datasets by calling a sample of the first 5 rows."
   ]
  },
  {
   "cell_type": "code",
   "execution_count": 3,
   "metadata": {},
   "outputs": [
    {
     "data": {
      "text/html": [
       "<div>\n",
       "<style scoped>\n",
       "    .dataframe tbody tr th:only-of-type {\n",
       "        vertical-align: middle;\n",
       "    }\n",
       "\n",
       "    .dataframe tbody tr th {\n",
       "        vertical-align: top;\n",
       "    }\n",
       "\n",
       "    .dataframe thead th {\n",
       "        text-align: right;\n",
       "    }\n",
       "</style>\n",
       "<table border=\"1\" class=\"dataframe\">\n",
       "  <thead>\n",
       "    <tr style=\"text-align: right;\">\n",
       "      <th></th>\n",
       "      <th>Year</th>\n",
       "      <th>Temperature</th>\n",
       "    </tr>\n",
       "  </thead>\n",
       "  <tbody>\n",
       "    <tr>\n",
       "      <th>0</th>\n",
       "      <td>1956</td>\n",
       "      <td>16.99</td>\n",
       "    </tr>\n",
       "    <tr>\n",
       "      <th>1</th>\n",
       "      <td>1957</td>\n",
       "      <td>10.34</td>\n",
       "    </tr>\n",
       "    <tr>\n",
       "      <th>2</th>\n",
       "      <td>1958</td>\n",
       "      <td>21.01</td>\n",
       "    </tr>\n",
       "    <tr>\n",
       "      <th>3</th>\n",
       "      <td>1959</td>\n",
       "      <td>23.68</td>\n",
       "    </tr>\n",
       "    <tr>\n",
       "      <th>4</th>\n",
       "      <td>1960</td>\n",
       "      <td>24.59</td>\n",
       "    </tr>\n",
       "  </tbody>\n",
       "</table>\n",
       "</div>"
      ],
      "text/plain": [
       "   Year  Temperature\n",
       "0  1956        16.99\n",
       "1  1957        10.34\n",
       "2  1958        21.01\n",
       "3  1959        23.68\n",
       "4  1960        24.59"
      ]
     },
     "execution_count": 3,
     "metadata": {},
     "output_type": "execute_result"
    }
   ],
   "source": [
    "df_temp.head(5)"
   ]
  },
  {
   "cell_type": "code",
   "execution_count": 4,
   "metadata": {},
   "outputs": [
    {
     "data": {
      "text/html": [
       "<div>\n",
       "<style scoped>\n",
       "    .dataframe tbody tr th:only-of-type {\n",
       "        vertical-align: middle;\n",
       "    }\n",
       "\n",
       "    .dataframe tbody tr th {\n",
       "        vertical-align: top;\n",
       "    }\n",
       "\n",
       "    .dataframe thead th {\n",
       "        text-align: right;\n",
       "    }\n",
       "</style>\n",
       "<table border=\"1\" class=\"dataframe\">\n",
       "  <thead>\n",
       "    <tr style=\"text-align: right;\">\n",
       "      <th></th>\n",
       "      <th>Year</th>\n",
       "      <th>Rainfall</th>\n",
       "    </tr>\n",
       "  </thead>\n",
       "  <tbody>\n",
       "    <tr>\n",
       "      <th>0</th>\n",
       "      <td>1956</td>\n",
       "      <td>1.01</td>\n",
       "    </tr>\n",
       "    <tr>\n",
       "      <th>1</th>\n",
       "      <td>1957</td>\n",
       "      <td>1.66</td>\n",
       "    </tr>\n",
       "    <tr>\n",
       "      <th>2</th>\n",
       "      <td>1958</td>\n",
       "      <td>3.50</td>\n",
       "    </tr>\n",
       "    <tr>\n",
       "      <th>3</th>\n",
       "      <td>1959</td>\n",
       "      <td>3.31</td>\n",
       "    </tr>\n",
       "    <tr>\n",
       "      <th>4</th>\n",
       "      <td>1960</td>\n",
       "      <td>3.61</td>\n",
       "    </tr>\n",
       "  </tbody>\n",
       "</table>\n",
       "</div>"
      ],
      "text/plain": [
       "   Year  Rainfall\n",
       "0  1956      1.01\n",
       "1  1957      1.66\n",
       "2  1958      3.50\n",
       "3  1959      3.31\n",
       "4  1960      3.61"
      ]
     },
     "execution_count": 4,
     "metadata": {},
     "output_type": "execute_result"
    }
   ],
   "source": [
    "df_rain.head(5)"
   ]
  },
  {
   "cell_type": "markdown",
   "metadata": {},
   "source": [
    "#### Now let's examine the profile of the datasets."
   ]
  },
  {
   "cell_type": "markdown",
   "metadata": {},
   "source": [
    "**The dataset that contains information for the temperature per year has:**      \n",
    "> • 2 columns  \n",
    "  • 62 non-null entries (observations)  \n",
    "  • the variable \"Year\" as  datatype integer  \n",
    "  • the variable \"Temperature\" as datatype float  "
   ]
  },
  {
   "cell_type": "code",
   "execution_count": 5,
   "metadata": {},
   "outputs": [
    {
     "name": "stdout",
     "output_type": "stream",
     "text": [
      "<class 'pandas.core.frame.DataFrame'>\n",
      "RangeIndex: 62 entries, 0 to 61\n",
      "Data columns (total 2 columns):\n",
      " #   Column       Non-Null Count  Dtype  \n",
      "---  ------       --------------  -----  \n",
      " 0   Year         62 non-null     int64  \n",
      " 1   Temperature  62 non-null     float64\n",
      "dtypes: float64(1), int64(1)\n",
      "memory usage: 1.1 KB\n"
     ]
    }
   ],
   "source": [
    "df_temp.info()"
   ]
  },
  {
   "cell_type": "markdown",
   "metadata": {},
   "source": [
    "**The dataset that contains information about the rainfalls per year has:**  \n",
    " >  • 2 columns  \n",
    "    • 61 non-null entries (observations)  \n",
    "    • the variable \"Year\" as datatype integer  \n",
    "    • the variable \"Rainfall\" as datatype float  "
   ]
  },
  {
   "cell_type": "code",
   "execution_count": 6,
   "metadata": {},
   "outputs": [
    {
     "name": "stdout",
     "output_type": "stream",
     "text": [
      "<class 'pandas.core.frame.DataFrame'>\n",
      "RangeIndex: 61 entries, 0 to 60\n",
      "Data columns (total 2 columns):\n",
      " #   Column    Non-Null Count  Dtype  \n",
      "---  ------    --------------  -----  \n",
      " 0   Year      61 non-null     int64  \n",
      " 1   Rainfall  61 non-null     float64\n",
      "dtypes: float64(1), int64(1)\n",
      "memory usage: 1.1 KB\n"
     ]
    }
   ],
   "source": [
    "df_rain.info()"
   ]
  },
  {
   "cell_type": "markdown",
   "metadata": {},
   "source": [
    "#### **Cleaning our Datasets:**\n",
    ">We create a scatter plot graph to review our data by visualizing them. This way, we can easily spot the outliers."
   ]
  },
  {
   "cell_type": "markdown",
   "metadata": {},
   "source": [
    "#### **Temperature:**  \n",
    ">As we can see below, the majority of the data observations are moving per year between 0 and 50 degrees. However, we spot outliers in our\n",
    "results, as some observations are significantly away from the rest indicating abnormal temperature rates. This issue could easily lead to misleading metrics and confusing visualizations."
   ]
  },
  {
   "cell_type": "code",
   "execution_count": 7,
   "metadata": {},
   "outputs": [
    {
     "data": {
      "image/png": "[encoded data removed]",
      "text/plain": [
       "<Figure size 720x720 with 1 Axes>"
      ]
     },
     "metadata": {
      "needs_background": "light"
     },
     "output_type": "display_data"
    }
   ],
   "source": [
    "df_temp.plot.scatter(x='Year',y='Temperature',label = 'Temperature and Year',figsize=(10,10))\n",
    "None"
   ]
  },
  {
   "cell_type": "markdown",
   "metadata": {},
   "source": [
    "#### **We Filter our datasets to remove the outliers:**\n",
    ">We use the .query() method to filter out the outliers by setting observation limits based on our scatter plot review. We limit our  \n",
    "observations of temperatures between 0 and 40 degrees:"
   ]
  },
  {
   "cell_type": "code",
   "execution_count": 8,
   "metadata": {},
   "outputs": [
    {
     "data": {
      "text/html": [
       "<div>\n",
       "<style scoped>\n",
       "    .dataframe tbody tr th:only-of-type {\n",
       "        vertical-align: middle;\n",
       "    }\n",
       "\n",
       "    .dataframe tbody tr th {\n",
       "        vertical-align: top;\n",
       "    }\n",
       "\n",
       "    .dataframe thead th {\n",
       "        text-align: right;\n",
       "    }\n",
       "</style>\n",
       "<table border=\"1\" class=\"dataframe\">\n",
       "  <thead>\n",
       "    <tr style=\"text-align: right;\">\n",
       "      <th></th>\n",
       "      <th>Year</th>\n",
       "      <th>Temperature</th>\n",
       "    </tr>\n",
       "  </thead>\n",
       "  <tbody>\n",
       "    <tr>\n",
       "      <th>0</th>\n",
       "      <td>1956</td>\n",
       "      <td>16.99</td>\n",
       "    </tr>\n",
       "    <tr>\n",
       "      <th>1</th>\n",
       "      <td>1957</td>\n",
       "      <td>10.34</td>\n",
       "    </tr>\n",
       "    <tr>\n",
       "      <th>2</th>\n",
       "      <td>1958</td>\n",
       "      <td>21.01</td>\n",
       "    </tr>\n",
       "    <tr>\n",
       "      <th>3</th>\n",
       "      <td>1959</td>\n",
       "      <td>23.68</td>\n",
       "    </tr>\n",
       "    <tr>\n",
       "      <th>4</th>\n",
       "      <td>1960</td>\n",
       "      <td>24.59</td>\n",
       "    </tr>\n",
       "  </tbody>\n",
       "</table>\n",
       "</div>"
      ],
      "text/plain": [
       "   Year  Temperature\n",
       "0  1956        16.99\n",
       "1  1957        10.34\n",
       "2  1958        21.01\n",
       "3  1959        23.68\n",
       "4  1960        24.59"
      ]
     },
     "execution_count": 8,
     "metadata": {},
     "output_type": "execute_result"
    }
   ],
   "source": [
    "df_temp_f = df_temp.query('Temperature > 0 and Temperature < 40')\n",
    "df_temp_f.head(5)"
   ]
  },
  {
   "cell_type": "markdown",
   "metadata": {},
   "source": [
    "#### By removing the outliers, we can now see our observations in a more compact area and examine our data's behavior."
   ]
  },
  {
   "cell_type": "code",
   "execution_count": 9,
   "metadata": {},
   "outputs": [
    {
     "data": {
      "image/png": "[encoded data removed]",
      "text/plain": [
       "<Figure size 720x720 with 1 Axes>"
      ]
     },
     "metadata": {
      "needs_background": "light"
     },
     "output_type": "display_data"
    }
   ],
   "source": [
    "df_temp_f.plot.scatter(x='Year',y='Temperature',label = 'Temperature and Year',figsize=(10,10))\n",
    "None"
   ]
  },
  {
   "cell_type": "markdown",
   "metadata": {},
   "source": [
    "#### **Rainfall:**  \n",
    ">Repeating the same procedure for the Rainfall dataset, we again spot outliers that could damage our analysis and we proceed to exclude them."
   ]
  },
  {
   "cell_type": "code",
   "execution_count": 10,
   "metadata": {},
   "outputs": [
    {
     "data": {
      "image/png": "[encoded data removed]",
      "text/plain": [
       "<Figure size 1080x576 with 1 Axes>"
      ]
     },
     "metadata": {
      "needs_background": "light"
     },
     "output_type": "display_data"
    }
   ],
   "source": [
    "df_rain.plot.scatter(x='Year',y='Rainfall',label='Rainfall and Year',figsize=(15,8))\n",
    "None"
   ]
  },
  {
   "cell_type": "markdown",
   "metadata": {},
   "source": [
    "**We similarly limit our observations for the rainfall variable using the .query() method to filter out extreme values.**"
   ]
  },
  {
   "cell_type": "code",
   "execution_count": 11,
   "metadata": {},
   "outputs": [],
   "source": [
    "df_rain_f= df_rain.query('Rainfall < 6 and Rainfall > 0')"
   ]
  },
  {
   "cell_type": "code",
   "execution_count": 12,
   "metadata": {},
   "outputs": [
    {
     "data": {
      "image/png": "[encoded data removed]",
      "text/plain": [
       "<Figure size 1080x576 with 1 Axes>"
      ]
     },
     "metadata": {
      "needs_background": "light"
     },
     "output_type": "display_data"
    }
   ],
   "source": [
    "df_rain_f.plot.scatter(x='Year',y='Rainfall',label='Rainfall and Year',figsize=(15,8))\n",
    "None"
   ]
  },
  {
   "cell_type": "markdown",
   "metadata": {},
   "source": [
    "#### Now that I have processed my data I need to combine them in order to visualize them together and come to conclusions concerning their relationship."
   ]
  },
  {
   "cell_type": "markdown",
   "metadata": {},
   "source": [
    ">I use the Year as the primary key to combining my data with the merge method, which executes the same way as the join methods in SQL.\n",
    "By using the inner join method to merge the two datasets, I create a combined data frame that only includes the observations, the 'key' of which exists in both of the datasets."
   ]
  },
  {
   "cell_type": "code",
   "execution_count": 13,
   "metadata": {},
   "outputs": [
    {
     "data": {
      "text/html": [
       "<div>\n",
       "<style scoped>\n",
       "    .dataframe tbody tr th:only-of-type {\n",
       "        vertical-align: middle;\n",
       "    }\n",
       "\n",
       "    .dataframe tbody tr th {\n",
       "        vertical-align: top;\n",
       "    }\n",
       "\n",
       "    .dataframe thead th {\n",
       "        text-align: right;\n",
       "    }\n",
       "</style>\n",
       "<table border=\"1\" class=\"dataframe\">\n",
       "  <thead>\n",
       "    <tr style=\"text-align: right;\">\n",
       "      <th></th>\n",
       "      <th>Year</th>\n",
       "      <th>Temperature</th>\n",
       "      <th>Rainfall</th>\n",
       "    </tr>\n",
       "  </thead>\n",
       "  <tbody>\n",
       "    <tr>\n",
       "      <th>0</th>\n",
       "      <td>1956</td>\n",
       "      <td>16.99</td>\n",
       "      <td>1.01</td>\n",
       "    </tr>\n",
       "    <tr>\n",
       "      <th>1</th>\n",
       "      <td>1957</td>\n",
       "      <td>10.34</td>\n",
       "      <td>1.66</td>\n",
       "    </tr>\n",
       "    <tr>\n",
       "      <th>2</th>\n",
       "      <td>1958</td>\n",
       "      <td>21.01</td>\n",
       "      <td>3.50</td>\n",
       "    </tr>\n",
       "    <tr>\n",
       "      <th>3</th>\n",
       "      <td>1959</td>\n",
       "      <td>23.68</td>\n",
       "      <td>3.31</td>\n",
       "    </tr>\n",
       "    <tr>\n",
       "      <th>4</th>\n",
       "      <td>1960</td>\n",
       "      <td>24.59</td>\n",
       "      <td>3.61</td>\n",
       "    </tr>\n",
       "  </tbody>\n",
       "</table>\n",
       "</div>"
      ],
      "text/plain": [
       "   Year  Temperature  Rainfall\n",
       "0  1956        16.99      1.01\n",
       "1  1957        10.34      1.66\n",
       "2  1958        21.01      3.50\n",
       "3  1959        23.68      3.31\n",
       "4  1960        24.59      3.61"
      ]
     },
     "execution_count": 13,
     "metadata": {},
     "output_type": "execute_result"
    }
   ],
   "source": [
    "df_merge = pd.merge(df_temp_f,df_rain_f, on = \"Year\" , how = 'inner')\n",
    "df_merge.head(5)"
   ]
  },
  {
   "cell_type": "markdown",
   "metadata": {},
   "source": [
    "As we can see below, we have no null-values"
   ]
  },
  {
   "cell_type": "code",
   "execution_count": 14,
   "metadata": {},
   "outputs": [
    {
     "data": {
      "text/plain": [
       "Year           0\n",
       "Temperature    0\n",
       "Rainfall       0\n",
       "dtype: int64"
      ]
     },
     "execution_count": 14,
     "metadata": {},
     "output_type": "execute_result"
    }
   ],
   "source": [
    "df_merge.isnull().sum()"
   ]
  },
  {
   "cell_type": "markdown",
   "metadata": {},
   "source": [
    "#### Let's now examine our merged data frame:  \n",
    " • What is the time period that our observations are taking place?  \n",
    " • Which is the highest / lowest temperature, the year was observed, and the corresponding Rainfall level?  \n",
    " • Which is the highest / lowest Rainfall level, the year was observed, and the corresponding Temperature level?  "
   ]
  },
  {
   "cell_type": "code",
   "execution_count": 15,
   "metadata": {},
   "outputs": [
    {
     "name": "stdout",
     "output_type": "stream",
     "text": [
      "[1956 1957 1958 1959 1960 1961 1962 1963 1964 1965 1966 1967 1968 1970\n",
      " 1972 1973 1974 1976 1977 1978 1980 1981 1982 1983 1984 1985 1986 1987\n",
      " 1988 1989 1991 1992 1993 1994 1995 1996 1997 1998 1999 2000 2001 2002\n",
      " 2004 2005 2006 2007 2008 2009 2010 2011 2012 2013 2014 2016 2017]\n",
      "The starting year:  1956\n",
      "The most recent year:  2017\n"
     ]
    }
   ],
   "source": [
    "print(df_merge['Year'].unique())\n",
    "print('The starting year: ',df_merge['Year'].min())\n",
    "print('The most recent year: ',df_merge['Year'].max())"
   ]
  },
  {
   "cell_type": "code",
   "execution_count": 16,
   "metadata": {},
   "outputs": [
    {
     "data": {
      "text/html": [
       "<div>\n",
       "<style scoped>\n",
       "    .dataframe tbody tr th:only-of-type {\n",
       "        vertical-align: middle;\n",
       "    }\n",
       "\n",
       "    .dataframe tbody tr th {\n",
       "        vertical-align: top;\n",
       "    }\n",
       "\n",
       "    .dataframe thead th {\n",
       "        text-align: right;\n",
       "    }\n",
       "</style>\n",
       "<table border=\"1\" class=\"dataframe\">\n",
       "  <thead>\n",
       "    <tr style=\"text-align: right;\">\n",
       "      <th></th>\n",
       "      <th>Temperature</th>\n",
       "      <th>Rainfall</th>\n",
       "    </tr>\n",
       "  </thead>\n",
       "  <tbody>\n",
       "    <tr>\n",
       "      <th>count</th>\n",
       "      <td>55.00</td>\n",
       "      <td>55.00</td>\n",
       "    </tr>\n",
       "    <tr>\n",
       "      <th>mean</th>\n",
       "      <td>18.83</td>\n",
       "      <td>2.88</td>\n",
       "    </tr>\n",
       "    <tr>\n",
       "      <th>std</th>\n",
       "      <td>6.87</td>\n",
       "      <td>1.10</td>\n",
       "    </tr>\n",
       "    <tr>\n",
       "      <th>min</th>\n",
       "      <td>8.77</td>\n",
       "      <td>1.01</td>\n",
       "    </tr>\n",
       "    <tr>\n",
       "      <th>25%</th>\n",
       "      <td>14.36</td>\n",
       "      <td>2.00</td>\n",
       "    </tr>\n",
       "    <tr>\n",
       "      <th>50%</th>\n",
       "      <td>17.81</td>\n",
       "      <td>3.00</td>\n",
       "    </tr>\n",
       "    <tr>\n",
       "      <th>75%</th>\n",
       "      <td>21.96</td>\n",
       "      <td>3.50</td>\n",
       "    </tr>\n",
       "    <tr>\n",
       "      <th>max</th>\n",
       "      <td>38.01</td>\n",
       "      <td>5.60</td>\n",
       "    </tr>\n",
       "  </tbody>\n",
       "</table>\n",
       "</div>"
      ],
      "text/plain": [
       "       Temperature  Rainfall\n",
       "count        55.00     55.00\n",
       "mean         18.83      2.88\n",
       "std           6.87      1.10\n",
       "min           8.77      1.01\n",
       "25%          14.36      2.00\n",
       "50%          17.81      3.00\n",
       "75%          21.96      3.50\n",
       "max          38.01      5.60"
      ]
     },
     "execution_count": 16,
     "metadata": {},
     "output_type": "execute_result"
    }
   ],
   "source": [
    "df_merge[['Temperature','Rainfall']].describe().round(2)"
   ]
  },
  {
   "cell_type": "markdown",
   "metadata": {},
   "source": [
    "#### Sorting values by Temperature"
   ]
  },
  {
   "cell_type": "code",
   "execution_count": 17,
   "metadata": {},
   "outputs": [
    {
     "name": "stdout",
     "output_type": "stream",
     "text": [
      "Top 5 Temperature Values:\n",
      "   Year  Temperature  Rainfall\n",
      "0  2012        38.01       3.0\n",
      "1  1967        35.26       5.0\n",
      "2  2008        34.81       5.2\n",
      "3  1995        31.27       5.0\n",
      "4  2000        30.40       5.6\n",
      "==========================================\n",
      "Bottom 5 Temperature Values:\n",
      "   Year  Temperature  Rainfall\n",
      "0  1962         8.77      2.00\n",
      "1  1986         9.55      1.45\n",
      "2  1999         9.68      1.32\n",
      "3  2009         9.94      1.56\n",
      "4  1966        10.27      1.71\n"
     ]
    }
   ],
   "source": [
    "temp_max = df_merge.sort_values('Temperature',ascending=False).head(5).reset_index(drop=True)\n",
    "temp_min = df_merge.sort_values('Temperature',ascending=True).head(5).reset_index(drop=True)\n",
    "print('Top 5 Temperature Values:')\n",
    "print(temp_max)\n",
    "print('==========================================')\n",
    "print('Bottom 5 Temperature Values:')\n",
    "print(temp_min)"
   ]
  },
  {
   "cell_type": "markdown",
   "metadata": {},
   "source": [
    "#### Sorting Values by Rainfall"
   ]
  },
  {
   "cell_type": "code",
   "execution_count": 18,
   "metadata": {},
   "outputs": [
    {
     "name": "stdout",
     "output_type": "stream",
     "text": [
      "Top 5 Rainfall Values:\n",
      "   Year  Temperature  Rainfall\n",
      "0  2000        30.40       5.6\n",
      "1  2008        34.81       5.2\n",
      "2  1967        35.26       5.0\n",
      "3  1995        31.27       5.0\n",
      "4  2002        22.23       5.0\n",
      "==========================================\n",
      "Bottom 5 Rainfall Values:\n",
      "   Year  Temperature  Rainfall\n",
      "0  1956        16.99      1.01\n",
      "1  1999         9.68      1.32\n",
      "2  1986         9.55      1.45\n",
      "3  2013        26.41      1.50\n",
      "4  2009         9.94      1.56\n"
     ]
    }
   ],
   "source": [
    "rain_max = df_merge.sort_values('Rainfall',ascending=False).head(5).reset_index(drop=True)\n",
    "rain_min = df_merge.sort_values('Rainfall',ascending=True).head(5).reset_index(drop=True)\n",
    "print('Top 5 Rainfall Values:')\n",
    "print(rain_max)\n",
    "print('==========================================')\n",
    "print('Bottom 5 Rainfall Values:')\n",
    "print(rain_min)"
   ]
  },
  {
   "cell_type": "markdown",
   "metadata": {},
   "source": [
    "#### Now we will use the seaborn package to create a visualization for our merged data frame."
   ]
  },
  {
   "cell_type": "markdown",
   "metadata": {},
   "source": [
    "We want to create a jointplot to show a regression of our data and detect their relationship.  \n",
    ">• First we define as X the column 'Rainfall', and as Y the column 'Temperature'.  \n",
    "• Secondly, we define the data source of our graph by setting data = df_merge (the variable that contains our merged dataset).  \n",
    "• Finally, we set the type of our plot which will be a regression plot, thus kind = 'reg'"
   ]
  },
  {
   "cell_type": "code",
   "execution_count": 19,
   "metadata": {},
   "outputs": [
    {
     "data": {
      "image/png": "[encoded data removed]",
      "text/plain": [
       "<Figure size 432x432 with 3 Axes>"
      ]
     },
     "metadata": {
      "needs_background": "light"
     },
     "output_type": "display_data"
    }
   ],
   "source": [
    "sns.jointplot('Rainfall','Temperature', data=df_merge, kind='reg')\n",
    "None"
   ]
  },
  {
   "cell_type": "markdown",
   "metadata": {},
   "source": [
    "**Creating a jointplot with the help of the seaborn package, we have combined a scatter plot and a regression line, allowing us to  \n",
    "visualize the relationship between two variables and assess their linear correlation.**"
   ]
  },
  {
   "cell_type": "markdown",
   "metadata": {},
   "source": [
    "**Scatter plot:**  \n",
    ">The scatter plot shows the distribution of data points for 'Rainfall' and 'Temperature'. Each point represents a data observation, with 'Rainfall' on the x-axis and 'Temperature' on the y-axis. By observing the scatter plot, we can identify patterns, clusters, or any visible relationship between the two variables."
   ]
  },
  {
   "cell_type": "markdown",
   "metadata": {},
   "source": [
    "**Regression line:**  \n",
    ">The regression line represents the best-fit line that minimizes the distance between the line and the data points. It provides an estimate of the linear relationship between 'Rainfall' and 'Temperature'. The slope of the line indicates the direction and strength of the relationship, while the intercept represents the expected 'Temperature' value when 'Rainfall' is zero. As the regression line has a positive slope, it suggests a positive correlation between the two variables, meaning that while the temperature rises, we also expect the Rainfall's variable values to rise."
   ]
  },
  {
   "cell_type": "markdown",
   "metadata": {},
   "source": [
    "**Histograms:**  \n",
    ">The histograms are a frequency distribution. As appears for the two variables gives us an idea of how often the 'X'(Rainfall) and 'Y'(Temperature) values occur."
   ]
  }
 ],
 "metadata": {
  "kernelspec": {
   "display_name": "Python 3",
   "language": "python",
   "name": "python3"
  },
  "language_info": {
   "codemirror_mode": {
    "name": "ipython",
    "version": 3
   },
   "file_extension": ".py",
   "mimetype": "text/x-python",
   "name": "python",
   "nbconvert_exporter": "python",
   "pygments_lexer": "ipython3",
   "version": "3.7.6"
  }
 },
 "nbformat": 4,
 "nbformat_minor": 4
}
